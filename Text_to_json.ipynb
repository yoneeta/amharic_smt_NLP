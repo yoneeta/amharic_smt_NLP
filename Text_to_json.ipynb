{
 "cells": [
  {
   "cell_type": "markdown",
   "id": "c9786836",
   "metadata": {},
   "source": [
    "# Converting text files to JSON file"
   ]
  },
  {
   "cell_type": "code",
   "execution_count": 1,
   "id": "e3338fe9",
   "metadata": {},
   "outputs": [
    {
     "name": "stdout",
     "output_type": "stream",
     "text": [
      "Total parallel sentenses 17\n"
     ]
    }
   ],
   "source": [
    "import json\n",
    "    \n",
    "def main():\n",
    "    \n",
    "    # TXT files to be converted\n",
    "    filename_AM = 'BBC 2 amharic.txt'\n",
    "    filename_TR = 'BBC 2 english.txt'\n",
    "\n",
    "    # Result array\n",
    "    array = []\n",
    "\n",
    "    # Read the two txt files\n",
    "    with open(filename_AM, encoding = \"utf8\") as ar, open(filename_TR, encoding = \"utf8\") as tr:\n",
    "        \n",
    "        # Dictionary for storing the two pair of language with their keys as \"am\" or \"tr\"\n",
    "        dict2 = {}\n",
    "        count = 0\n",
    "        \n",
    "        for line_ar, line_tr in zip(ar, tr):\n",
    "            \n",
    "            # Using .strip() to remove the \"/n\" at the end of each sentence\n",
    "            diction = {\"ar\": line_ar.strip(\":,.?!)(-+][}{'/|\\،\\n\"), \"tr\": line_tr.strip(\":,.?!)(-+][}{'/|\\،\\n\")}\n",
    "            \n",
    "            array.append(diction)\n",
    "            \n",
    "            count += 1\n",
    "            \n",
    "            if count == 15000:\n",
    "                break\n",
    "            \n",
    "    # creating json file        \n",
    "    out_file = open(\"am_en_pair.json\", \"w\", encoding = \"utf8\")\n",
    "    json.dump(array ,out_file, ensure_ascii = False, indent = 2)\n",
    "    out_file.close()\n",
    "    \n",
    "    print(\"Total parallel sentenses\", len(array))\n",
    "    \n",
    "main()"
   ]
  },
  {
   "cell_type": "code",
   "execution_count": null,
   "id": "5a12af59",
   "metadata": {},
   "outputs": [],
   "source": []
  }
 ],
 "metadata": {
  "kernelspec": {
   "display_name": "Python 3 (ipykernel)",
   "language": "python",
   "name": "python3"
  },
  "language_info": {
   "codemirror_mode": {
    "name": "ipython",
    "version": 3
   },
   "file_extension": ".py",
   "mimetype": "text/x-python",
   "name": "python",
   "nbconvert_exporter": "python",
   "pygments_lexer": "ipython3",
   "version": "3.9.7"
  }
 },
 "nbformat": 4,
 "nbformat_minor": 5
}
